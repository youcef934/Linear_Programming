{
 "cells": [
  {
   "cell_type": "markdown",
   "metadata": {},
   "source": [
    "#  EXERCICE1"
   ]
  },
  {
   "cell_type": "code",
   "execution_count": 1,
   "metadata": {},
   "outputs": [],
   "source": [
    "from gurobipy import *\n",
    "import pandas as pd \n",
    "import numpy as np\n",
    "from pandas import DataFrame, read_csv\n"
   ]
  },
  {
   "cell_type": "code",
   "execution_count": 2,
   "metadata": {},
   "outputs": [],
   "source": [
    "file = r'villes.xlsx'\n",
    "df = pd.read_excel(file)\n",
    "\n"
   ]
  },
  {
   "cell_type": "code",
   "execution_count": 3,
   "metadata": {},
   "outputs": [],
   "source": [
    "Villes = df['Ville']\n",
    "population = df['Population'].tolist()\n",
    "Distances = df.iloc[:,2:].to_numpy()\n"
   ]
  },
  {
   "cell_type": "code",
   "execution_count": 4,
   "metadata": {},
   "outputs": [],
   "source": [
    "nb_villes = len(Villes)\n",
    "k_index = [0, 1 , 2]\n",
    "k = len(k_index)\n",
    "alpha = 0.1\n",
    "population_max = sum(population)*(1 + alpha)/k\n"
   ]
  },
  {
   "cell_type": "code",
   "execution_count": 5,
   "metadata": {
    "scrolled": true
   },
   "outputs": [
    {
     "name": "stdout",
     "output_type": "stream",
     "text": [
      "Academic license - for non-commercial use only - expires 2021-02-20\n",
      "Using license file /Users/youcefmcirdi/gurobi.lic\n"
     ]
    }
   ],
   "source": [
    "m = Model('Approach One')\n",
    "m.setParam('OutputFlag', False) "
   ]
  },
  {
   "cell_type": "code",
   "execution_count": 6,
   "metadata": {},
   "outputs": [],
   "source": [
    "x1 = np.empty((nb_villes,k), dtype=Var)\n",
    "\n",
    "for i in range(nb_villes):\n",
    "    for j in range(k):\n",
    "        x1[i,j] = m.addVar(vtype=GRB.BINARY, lb=0, name=\"x(%s/%s)\" % (Villes[i],Villes[k_index[j]]))\n",
    "    \n",
    "m.update()\n",
    "\n"
   ]
  },
  {
   "cell_type": "code",
   "execution_count": 7,
   "metadata": {},
   "outputs": [],
   "source": [
    "obj = LinExpr();\n",
    "obj = 0\n",
    "for i in range(nb_villes):\n",
    "    for j in range(k):\n",
    "        obj += population[i] * Distances[i,k_index[j]] * x1[i,j]\n",
    "        \n",
    "obj /= sum(population)\n",
    "\n"
   ]
  },
  {
   "cell_type": "code",
   "execution_count": 8,
   "metadata": {},
   "outputs": [],
   "source": [
    "m.setObjective(obj,GRB.MINIMIZE)   "
   ]
  },
  {
   "cell_type": "code",
   "execution_count": 9,
   "metadata": {},
   "outputs": [],
   "source": [
    "for i in range(nb_villes):\n",
    "        m.addConstr(quicksum(x1[i,:]) == 1)\n",
    "        \n",
    "\n",
    "for i in range(nb_villes):\n",
    "        m.addConstr(quicksum([population[i]*x1[i,j] for j in range(k)]) <= population_max)\n",
    "    \n"
   ]
  },
  {
   "cell_type": "code",
   "execution_count": 10,
   "metadata": {},
   "outputs": [],
   "source": [
    "m.optimize()"
   ]
  },
  {
   "cell_type": "code",
   "execution_count": 11,
   "metadata": {},
   "outputs": [],
   "source": [
    "result1 = {}\n",
    "for i in range(nb_villes):\n",
    "    for j in range(k):\n",
    "        if x1[i,j].X == 1:\n",
    "            result1[Villes[i]] = Villes[k_index[j]]\n",
    "result1 = pd.DataFrame.from_dict(result1,orient='index',columns=['Unité de soin'])\n",
    "\n",
    "\n"
   ]
  },
  {
   "cell_type": "code",
   "execution_count": 12,
   "metadata": {},
   "outputs": [
    {
     "name": "stdout",
     "output_type": "stream",
     "text": [
      "Solution optimale pour alpha = 0.1 et k = 3:\n",
      "               Unité de soin\n",
      "Toulouse           Toulouse\n",
      "Nice                   Nice\n",
      "Nantes               Nantes\n",
      "Montpellier        Toulouse\n",
      "Strasbourg             Nice\n",
      "Bordeaux           Toulouse\n",
      "Lille                Nantes\n",
      "Rennes               Nantes\n",
      "Reims                Nantes\n",
      "Saint-Étienne          Nice\n",
      "Toulon                 Nice\n",
      "Le Havre             Nantes\n",
      "Grenoble               Nice\n",
      "Dijon                Nantes\n",
      "Angers               Nantes\n",
      "Valeur de la fonction objectif :\n",
      " 272.74793968298496\n"
     ]
    }
   ],
   "source": [
    "print('Solution optimale pour alpha = 0.1 et k = 3:\\n',result1)\n",
    "\n",
    "print('Valeur de la fonction objectif :\\n', m.objVal)\n",
    "\n",
    "\n"
   ]
  },
  {
   "cell_type": "markdown",
   "metadata": {},
   "source": [
    "# EXERCICE  2 "
   ]
  },
  {
   "cell_type": "code",
   "execution_count": 57,
   "metadata": {},
   "outputs": [],
   "source": [
    "file = r'villes.xlsx'\n",
    "df = pd.read_excel(file)\n",
    "\n",
    "\n",
    "\n",
    "Villes = df['Ville']\n",
    "population = df['Population'].tolist()\n",
    "Distances = df.iloc[:,2:].to_numpy()\n",
    "\n",
    "\n",
    "\n",
    "nb_villes = len(Villes)\n",
    "k_index = [0, 1, 9, 12]\n",
    "k = len(k_index)\n",
    "alpha = 0.2\n",
    "population_max = sum(population)*(1 + alpha)/k\n",
    "\n"
   ]
  },
  {
   "cell_type": "code",
   "execution_count": 58,
   "metadata": {},
   "outputs": [],
   "source": [
    "m2 = Model('Approach two')\n",
    "m2.setParam('OutputFlag', False) "
   ]
  },
  {
   "cell_type": "raw",
   "metadata": {},
   "source": [
    "déclaration des variables de décisions "
   ]
  },
  {
   "cell_type": "code",
   "execution_count": 59,
   "metadata": {},
   "outputs": [],
   "source": [
    "x2 = np.empty((nb_villes,nb_villes), dtype=Var)\n",
    "\n",
    "for i in range(nb_villes):\n",
    "    for j in range(nb_villes):\n",
    "        x2[i,j] = m2.addVar(vtype=GRB.BINARY, lb=0, name=\"x2(%s/%s)\" % (Villes[i],Villes[j]))\n",
    "    \n"
   ]
  },
  {
   "cell_type": "code",
   "execution_count": 60,
   "metadata": {},
   "outputs": [],
   "source": [
    "z = []        \n",
    "for i in range(nb_villes):\n",
    "    z.append(m2.addVar(vtype=GRB.BINARY, lb=0, name=\"z%d\" % (i+1)))\n",
    "\n",
    "m2.update()\n",
    "    "
   ]
  },
  {
   "cell_type": "code",
   "execution_count": 61,
   "metadata": {},
   "outputs": [],
   "source": [
    "obj = LinExpr();\n",
    "obj = 0\n",
    "for i in range(nb_villes):\n",
    "    for j in range(nb_villes):\n",
    "        obj += population[i] * Distances[i,j] * x2[i,j] \n",
    "obj /= sum(population)\n",
    "\n",
    "\n",
    "\n"
   ]
  },
  {
   "cell_type": "code",
   "execution_count": 62,
   "metadata": {},
   "outputs": [],
   "source": [
    "m2.setObjective(obj,GRB.MINIMIZE)   "
   ]
  },
  {
   "cell_type": "raw",
   "metadata": {},
   "source": [
    "contraintes"
   ]
  },
  {
   "cell_type": "code",
   "execution_count": 63,
   "metadata": {},
   "outputs": [],
   "source": [
    "m2.addConstr(sum(z) == k)\n",
    "\n",
    "for j in range(nb_villes):\n",
    "    m2.addConstr(quicksum([population[i]*x2[i,j] for i in range(nb_villes)]) <= z[j]*population_max)\n",
    "for i in range(nb_villes):\n",
    "    m2.addConstr(quicksum(x2[i,:]) == 1)\n",
    "\n",
    "\n"
   ]
  },
  {
   "cell_type": "code",
   "execution_count": 64,
   "metadata": {},
   "outputs": [],
   "source": [
    "for j in range(nb_villes):\n",
    "    m2.addConstr(quicksum([population[i]*x2[i,j] for i in range(nb_villes)]) <= z[j]*population_max)\n"
   ]
  },
  {
   "cell_type": "code",
   "execution_count": 65,
   "metadata": {},
   "outputs": [],
   "source": [
    "for i in range(nb_villes):\n",
    "    m2.addConstr(quicksum(x2[i,:]) == 1)\n",
    "\n",
    "m2.optimize()   \n",
    "\n"
   ]
  },
  {
   "cell_type": "code",
   "execution_count": 66,
   "metadata": {},
   "outputs": [],
   "source": [
    "K_2 = [i for i in range(len(z)) if z[i].x == 1]\n",
    "result2 = {}"
   ]
  },
  {
   "cell_type": "code",
   "execution_count": 67,
   "metadata": {},
   "outputs": [],
   "source": [
    "for i in range(nb_villes):\n",
    "    for j in range(k):\n",
    "        if x2[i,K_2[j]].x == 1:\n",
    "            result2[Villes[i]] = Villes[K_2[j]]\n",
    "result2 = pd.DataFrame.from_dict(result2,orient='index',columns=['Unités de soins'])"
   ]
  },
  {
   "cell_type": "code",
   "execution_count": 68,
   "metadata": {},
   "outputs": [
    {
     "name": "stdout",
     "output_type": "stream",
     "text": [
      "Solution optimale pour alpha = 0.2 et k = 4\n",
      "               Unités de soins\n",
      "Toulouse             Toulouse\n",
      "Nice                   Toulon\n",
      "Nantes                 Nantes\n",
      "Montpellier          Toulouse\n",
      "Strasbourg              Reims\n",
      "Bordeaux             Toulouse\n",
      "Lille                   Reims\n",
      "Rennes                 Nantes\n",
      "Reims                   Reims\n",
      "Saint-Étienne          Toulon\n",
      "Toulon                 Toulon\n",
      "Le Havre                Reims\n",
      "Grenoble               Toulon\n",
      "Dijon                   Reims\n",
      "Angers                 Nantes\n",
      "Valeur de la fonction objectif de model 2:\n",
      " 167.035101977837\n"
     ]
    }
   ],
   "source": [
    "print('Solution optimale pour alpha = 0.2 et k = 4\\n',result2)\n",
    "print('Valeur de la fonction objectif de model 2:\\n', m2.objVal)\n",
    "\n",
    "\n"
   ]
  },
  {
   "cell_type": "raw",
   "metadata": {},
   "source": [
    "partie_2"
   ]
  },
  {
   "cell_type": "code",
   "execution_count": 69,
   "metadata": {},
   "outputs": [],
   "source": [
    "m2_2 = Model('Approach two')\n",
    "m2_2.setParam('OutputFlag', False) "
   ]
  },
  {
   "cell_type": "code",
   "execution_count": 70,
   "metadata": {},
   "outputs": [],
   "source": [
    "x2_2 = np.empty((nb_villes,nb_villes), dtype=Var)\n",
    "\n",
    "for i in range(nb_villes):\n",
    "    for j in range(nb_villes):\n",
    "        x2_2[i,j] = m2_2.addVar(vtype=GRB.BINARY, lb=0, name=\"x2_2(%s/%s)\" % (Villes[i],Villes[j]))\n",
    "    \n",
    "\n"
   ]
  },
  {
   "cell_type": "code",
   "execution_count": 71,
   "metadata": {},
   "outputs": [],
   "source": [
    "z_2 = []        \n",
    "for i in range(nb_villes):\n",
    "    z_2.append(m2_2.addVar(vtype=GRB.BINARY, lb=0, name=\"z_2%d\" % (i+1)))\n",
    "\n",
    "m2_2.update()\n",
    "    "
   ]
  },
  {
   "cell_type": "code",
   "execution_count": 72,
   "metadata": {},
   "outputs": [],
   "source": [
    "D_M = m2_2.addVar(vtype=GRB.CONTINUOUS,lb=0) \n",
    "m2_2.update()\n",
    "\n",
    "\n"
   ]
  },
  {
   "cell_type": "code",
   "execution_count": 73,
   "metadata": {},
   "outputs": [],
   "source": [
    "obj = LinExpr();\n",
    "obj = D_M\n",
    "\n",
    "m2_2.setObjective(obj,GRB.MINIMIZE)   \n",
    "    "
   ]
  },
  {
   "cell_type": "code",
   "execution_count": 74,
   "metadata": {},
   "outputs": [
    {
     "data": {
      "text/plain": [
       "<gurobi.Constr *Awaiting Model Update*>"
      ]
     },
     "execution_count": 74,
     "metadata": {},
     "output_type": "execute_result"
    }
   ],
   "source": [
    "m2_2.addConstr(sum(z_2) == k)\n",
    "\n",
    "\n"
   ]
  },
  {
   "cell_type": "code",
   "execution_count": 75,
   "metadata": {},
   "outputs": [],
   "source": [
    "\n",
    "for j in range(nb_villes):\n",
    "    m2_2.addConstr(quicksum([population[i]*x2_2[i,j] for i in range(nb_villes)]) <= z_2[j]*population_max)\n",
    "    \n",
    "    \n",
    "for i in range(nb_villes):\n",
    "    m2_2.addConstr(quicksum(x2_2[i,:]) == 1)\n",
    "\n",
    "\n",
    "for i in range(nb_villes):\n",
    "    d_max = 0\n",
    "    for j in range(nb_villes):\n",
    "            d_max += x2_2[i,j]*Distances[i,j]\n",
    "    m2_2.addConstr(d_max <= D_M )\n",
    "\n"
   ]
  },
  {
   "cell_type": "code",
   "execution_count": 76,
   "metadata": {},
   "outputs": [],
   "source": [
    "m2_2.optimize()\n"
   ]
  },
  {
   "cell_type": "code",
   "execution_count": 77,
   "metadata": {},
   "outputs": [],
   "source": [
    "K_2_2 = [i for i in range(len(z_2)) if z_2[i].x == 1]\n",
    "result2_2 = {}\n",
    "for i in range(nb_villes):\n",
    "    for j in range(k):\n",
    "            if x2_2[i,K_2_2[j]].x == 1:\n",
    "                result2_2[Villes[i]] = Villes[K_2_2[j]]\n",
    "result2_2 = pd.DataFrame.from_dict(result2_2,orient='index',columns=['Unités de soins'])  \n",
    "\n"
   ]
  },
  {
   "cell_type": "code",
   "execution_count": 80,
   "metadata": {
    "scrolled": false
   },
   "outputs": [
    {
     "name": "stdout",
     "output_type": "stream",
     "text": [
      "Solution optimale:\n",
      "               Unités de soins\n",
      "Toulouse             Toulouse\n",
      "Nice              Montpellier\n",
      "Nantes                 Angers\n",
      "Montpellier          Toulouse\n",
      "Strasbourg              Reims\n",
      "Bordeaux             Toulouse\n",
      "Lille                   Reims\n",
      "Rennes                 Angers\n",
      "Reims                   Reims\n",
      "Saint-Étienne     Montpellier\n",
      "Toulon            Montpellier\n",
      "Le Havre               Angers\n",
      "Grenoble          Montpellier\n",
      "Dijon                   Reims\n",
      "Angers                 Angers\n",
      "Valeur de la fonction objectif de model 2-2 pour alpha = 0.2 et k = :\n",
      " 347.0\n"
     ]
    }
   ],
   "source": [
    "print('Solution optimale:\\n',result2_2)\n",
    "print('Valeur de la fonction objectif de model 2-2 pour alpha = 0.2 et k = :\\n', m2_2.objVal)\n",
    "\n",
    "\n"
   ]
  },
  {
   "cell_type": "markdown",
   "metadata": {},
   "source": [
    "# Exercice 3 "
   ]
  },
  {
   "cell_type": "code",
   "execution_count": 81,
   "metadata": {},
   "outputs": [],
   "source": [
    "m3= Model('exo3')\n",
    "m3.setParam('OutputFlag', False) "
   ]
  },
  {
   "cell_type": "code",
   "execution_count": 82,
   "metadata": {},
   "outputs": [],
   "source": [
    "units = [5, 6, 10, 13, 14]\n",
    "p1 = [150,150,25,150,25]\n",
    "p2 = [100,25,45,150,180]\n",
    "k = len(units)"
   ]
  },
  {
   "cell_type": "code",
   "execution_count": 83,
   "metadata": {},
   "outputs": [],
   "source": [
    "# M de coût  \n",
    "Cij = np.zeros((k,k))\n",
    "for i in range(k):\n",
    "    for j in range(k):\n",
    "        Cij[i,j] = Distances[units[i],units[j]]"
   ]
  },
  {
   "cell_type": "code",
   "execution_count": 84,
   "metadata": {},
   "outputs": [],
   "source": [
    "#var de decision\n",
    "x3 = np.empty((k,k), dtype=Var)\n",
    "for i in range(k):\n",
    "    for j in range(k):\n",
    "        x3[i,j] = m3.addVar(vtype=GRB.INTEGER, lb=0, name=\"x3(%d/%d)\" % (i,j))\n",
    "    \n",
    "\n",
    "    \n",
    "m3.update()"
   ]
  },
  {
   "cell_type": "code",
   "execution_count": 85,
   "metadata": {},
   "outputs": [],
   "source": [
    "obj =  LinExpr();\n",
    "obj = 0  \n"
   ]
  },
  {
   "cell_type": "code",
   "execution_count": 86,
   "metadata": {},
   "outputs": [],
   "source": [
    "#func obj\n",
    "for i in range(k):\n",
    "    for j in range(k):\n",
    "        obj += Cij[i,j] * x3[i,j]\n",
    "            \n",
    "m3.setObjective(obj,GRB.MINIMIZE) \n",
    "    "
   ]
  },
  {
   "cell_type": "raw",
   "metadata": {},
   "source": [
    "Constraints "
   ]
  },
  {
   "cell_type": "code",
   "execution_count": null,
   "metadata": {},
   "outputs": [],
   "source": [
    "for i in range(k):\n",
    "    m3.addConstr(quicksum(x3[i,:]) == p1[i])\n",
    "for j in range(k):\n",
    "    m3.addConstr(quicksum(x3[:,j]) <= 100)\n",
    "    "
   ]
  },
  {
   "cell_type": "code",
   "execution_count": null,
   "metadata": {},
   "outputs": [],
   "source": [
    "m3.optimize()\n",
    "\n"
   ]
  },
  {
   "cell_type": "code",
   "execution_count": null,
   "metadata": {},
   "outputs": [],
   "source": [
    "M = np.zeros((k+1,k+1),dtype=int)\n",
    "for i in range(k):\n",
    "    for j in range(k):\n",
    "        M[i,j] = x3[i,j].x\n",
    "for i in range(k):\n",
    "    M[i,k] = p1[i]\n",
    "for j in range(k):\n",
    "    M[k,j] = 100\n",
    "M[k,k] = sum(p1)\n",
    "\n",
    "M = pd.DataFrame(M,index=list(Villes[units])+['Offre'],columns=list(Villes[units])+['Demande'])"
   ]
  },
  {
   "cell_type": "code",
   "execution_count": null,
   "metadata": {},
   "outputs": [],
   "source": [
    "print('Solution optimale pour le P1\\n: ',M)\n",
    "print('Valeur de la fonction objectif P1:', m3.objVal)"
   ]
  },
  {
   "cell_type": "raw",
   "metadata": {},
   "source": [
    "POur le P2"
   ]
  },
  {
   "cell_type": "code",
   "execution_count": 87,
   "metadata": {},
   "outputs": [],
   "source": [
    "for i in range(k):\n",
    "    m3.addConstr(quicksum(x3[i,:]) == p2[i])\n",
    "for j in range(k):\n",
    "    m3.addConstr(quicksum(x3[:,j]) <= 100)\n",
    "m3.optimize()\n",
    "\n",
    "   "
   ]
  },
  {
   "cell_type": "code",
   "execution_count": 88,
   "metadata": {},
   "outputs": [],
   "source": [
    "M = np.zeros((k+1,k+1),dtype=int)\n",
    "for i in range(k):\n",
    "    for j in range(k):\n",
    "        M[i,j] = x3[i,j].x\n",
    "for i in range(k):\n",
    "    M[i,k] = p2[i]\n",
    "for j in range(k):\n",
    "    M[k,j] = 100\n",
    "M[k,k] = sum(p2)\n",
    "\n",
    "M = pd.DataFrame(M,index=list(Villes[units])+['Offre'],columns=list(Villes[units])+['Demande'])"
   ]
  },
  {
   "cell_type": "code",
   "execution_count": 89,
   "metadata": {},
   "outputs": [
    {
     "name": "stdout",
     "output_type": "stream",
     "text": [
      "Solution optimale pour le P1\n",
      ":            Bordeaux  Lille  Toulon  Dijon  Angers  Demande\n",
      "Bordeaux       100      0       0      0       0      100\n",
      "Lille            0     25       0      0       0       25\n",
      "Toulon           0      0      45      0       0       45\n",
      "Dijon            0      0      50    100       0      150\n",
      "Angers           0     75       5      0     100      180\n",
      "Offre          100    100     100    100     100      500\n",
      "Valeur de la fonction objectif P2: 71520.0\n"
     ]
    }
   ],
   "source": [
    "print('Solution optimale pour le P1\\n: ',M)\n",
    "print('Valeur de la fonction objectif P2:', m3.objVal)"
   ]
  },
  {
   "cell_type": "code",
   "execution_count": null,
   "metadata": {},
   "outputs": [],
   "source": []
  },
  {
   "cell_type": "code",
   "execution_count": null,
   "metadata": {},
   "outputs": [],
   "source": []
  }
 ],
 "metadata": {
  "kernelspec": {
   "display_name": "Python 3",
   "language": "python",
   "name": "python3"
  },
  "language_info": {
   "codemirror_mode": {
    "name": "ipython",
    "version": 3
   },
   "file_extension": ".py",
   "mimetype": "text/x-python",
   "name": "python",
   "nbconvert_exporter": "python",
   "pygments_lexer": "ipython3",
   "version": "3.7.6"
  }
 },
 "nbformat": 4,
 "nbformat_minor": 4
}
